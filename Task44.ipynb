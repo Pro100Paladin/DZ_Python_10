{
  "nbformat": 4,
  "nbformat_minor": 0,
  "metadata": {
    "colab": {
      "provenance": [],
      "authorship_tag": "ABX9TyMO2ebaziDtEcUuXI38Cqaq",
      "include_colab_link": true
    },
    "kernelspec": {
      "name": "python3",
      "display_name": "Python 3"
    },
    "language_info": {
      "name": "python"
    }
  },
  "cells": [
    {
      "cell_type": "markdown",
      "metadata": {
        "id": "view-in-github",
        "colab_type": "text"
      },
      "source": [
        "<a href=\"https://colab.research.google.com/github/Pro100Paladin/DZ_Python_10/blob/main/Task44.ipynb\" target=\"_parent\"><img src=\"https://colab.research.google.com/assets/colab-badge.svg\" alt=\"Open In Colab\"/></a>"
      ]
    },
    {
      "cell_type": "code",
      "execution_count": 1,
      "metadata": {
        "id": "WpaKszDxXVPM"
      },
      "outputs": [],
      "source": [
        "import pandas as pd\n",
        "import numpy as np\n",
        "import random"
      ]
    },
    {
      "cell_type": "code",
      "source": [
        "lst = ['robot'] * 10\n",
        "lst += ['human'] * 10\n",
        "random.shuffle(lst)\n",
        "data = pd.DataFrame({'whoAmI': lst})\n",
        "print(data)"
      ],
      "metadata": {
        "colab": {
          "base_uri": "https://localhost:8080/"
        },
        "id": "3u_y4XtxXaQj",
        "outputId": "32034011-0fed-417c-acfb-46f92b9d0a2a"
      },
      "execution_count": 14,
      "outputs": [
        {
          "output_type": "stream",
          "name": "stdout",
          "text": [
            "   whoAmI\n",
            "0   robot\n",
            "1   robot\n",
            "2   robot\n",
            "3   robot\n",
            "4   human\n",
            "5   robot\n",
            "6   human\n",
            "7   robot\n",
            "8   human\n",
            "9   human\n",
            "10  human\n",
            "11  human\n",
            "12  human\n",
            "13  robot\n",
            "14  human\n",
            "15  robot\n",
            "16  human\n",
            "17  human\n",
            "18  robot\n",
            "19  robot\n"
          ]
        }
      ]
    },
    {
      "cell_type": "code",
      "source": [
        "data['tmp'] = 1\n",
        "data.set_index([data.index, 'whoAmI'], inplace=True)\n",
        "data = data.unstack(level=-1, fill_value = 0).astype(int)\n",
        "data.columns = data.columns.droplevel()\n",
        "data.columns.name = None\n",
        "print(data)"
      ],
      "metadata": {
        "colab": {
          "base_uri": "https://localhost:8080/"
        },
        "id": "0y7usv3-Xx8g",
        "outputId": "e791c831-a859-4042-c668-c04ede7add3a"
      },
      "execution_count": 15,
      "outputs": [
        {
          "output_type": "stream",
          "name": "stdout",
          "text": [
            "    human  robot\n",
            "0       0      1\n",
            "1       0      1\n",
            "2       0      1\n",
            "3       0      1\n",
            "4       1      0\n",
            "5       0      1\n",
            "6       1      0\n",
            "7       0      1\n",
            "8       1      0\n",
            "9       1      0\n",
            "10      1      0\n",
            "11      1      0\n",
            "12      1      0\n",
            "13      0      1\n",
            "14      1      0\n",
            "15      0      1\n",
            "16      1      0\n",
            "17      1      0\n",
            "18      0      1\n",
            "19      0      1\n"
          ]
        }
      ]
    }
  ]
}